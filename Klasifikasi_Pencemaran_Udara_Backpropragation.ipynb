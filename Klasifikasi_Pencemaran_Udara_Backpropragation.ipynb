{
  "nbformat": 4,
  "nbformat_minor": 0,
  "metadata": {
    "colab": {
      "provenance": [],
      "collapsed_sections": [
        "yp6e_KUMbPvy"
      ],
      "authorship_tag": "ABX9TyN9ZkRz/pSAzSzv+OZ8K2Wb",
      "include_colab_link": true
    },
    "kernelspec": {
      "name": "python3",
      "display_name": "Python 3"
    },
    "language_info": {
      "name": "python"
    }
  },
  "cells": [
    {
      "cell_type": "markdown",
      "metadata": {
        "id": "view-in-github",
        "colab_type": "text"
      },
      "source": [
        "<a href=\"https://colab.research.google.com/github/taufiksatrian/Klasifikasi_Pencemaran_Udara_Backpropagation/blob/main/Klasifikasi_Pencemaran_Udara_Backpropragation.ipynb\" target=\"_parent\"><img src=\"https://colab.research.google.com/assets/colab-badge.svg\" alt=\"Open In Colab\"/></a>"
      ]
    },
    {
      "cell_type": "markdown",
      "source": [
        "Import Library"
      ],
      "metadata": {
        "id": "g1Ha7FUhFr6m"
      }
    },
    {
      "cell_type": "code",
      "execution_count": null,
      "metadata": {
        "id": "8iJtF-n2CCLq"
      },
      "outputs": [],
      "source": [
        "import numpy as np\n",
        "import pandas as pd\n",
        "import tensorflow as tf\n",
        "import keras\n",
        "import itertools\n",
        "import matplotlib.pyplot as plt\n",
        "\n",
        "from sklearn.preprocessing import MinMaxScaler\n",
        "from sklearn.preprocessing import StandardScaler\n",
        "from sklearn.preprocessing import LabelEncoder\n",
        "\n",
        "from sklearn.model_selection import train_test_split\n",
        "from sklearn.metrics import confusion_matrix"
      ]
    },
    {
      "cell_type": "markdown",
      "source": [
        "Pengumpulan Data"
      ],
      "metadata": {
        "id": "YhHbyG22FqJN"
      }
    },
    {
      "cell_type": "code",
      "source": [
        "data = pd.read_csv(\"datasetPreprocessing.csv\")\n",
        "data.drop(['Unnamed: 0'], axis = 1, inplace = True) \n",
        "data.head()"
      ],
      "metadata": {
        "colab": {
          "base_uri": "https://localhost:8080/",
          "height": 206
        },
        "id": "jA1HSgSKBNx-",
        "outputId": "f313ecf6-a693-476b-e937-389df34e7b4d"
      },
      "execution_count": null,
      "outputs": [
        {
          "output_type": "execute_result",
          "data": {
            "text/plain": [
              "       pm10      pm25     so2        co        o3       no2  categori\n",
              "0  0.140244  0.248447  0.3375  0.097561  0.160839  0.161290         1\n",
              "1  0.073171  0.204969  0.3125  0.121951  0.272727  0.064516         2\n",
              "2  0.176829  0.279503  0.2875  0.121951  0.223776  0.161290         1\n",
              "3  0.091463  0.217391  0.2750  0.048780  0.167832  0.064516         2\n",
              "4  0.140244  0.248447  0.2750  0.097561  0.160839  0.096774         1"
            ],
            "text/html": [
              "\n",
              "  <div id=\"df-8a917d9f-f14d-4810-9924-310c0a44d3b6\">\n",
              "    <div class=\"colab-df-container\">\n",
              "      <div>\n",
              "<style scoped>\n",
              "    .dataframe tbody tr th:only-of-type {\n",
              "        vertical-align: middle;\n",
              "    }\n",
              "\n",
              "    .dataframe tbody tr th {\n",
              "        vertical-align: top;\n",
              "    }\n",
              "\n",
              "    .dataframe thead th {\n",
              "        text-align: right;\n",
              "    }\n",
              "</style>\n",
              "<table border=\"1\" class=\"dataframe\">\n",
              "  <thead>\n",
              "    <tr style=\"text-align: right;\">\n",
              "      <th></th>\n",
              "      <th>pm10</th>\n",
              "      <th>pm25</th>\n",
              "      <th>so2</th>\n",
              "      <th>co</th>\n",
              "      <th>o3</th>\n",
              "      <th>no2</th>\n",
              "      <th>categori</th>\n",
              "    </tr>\n",
              "  </thead>\n",
              "  <tbody>\n",
              "    <tr>\n",
              "      <th>0</th>\n",
              "      <td>0.140244</td>\n",
              "      <td>0.248447</td>\n",
              "      <td>0.3375</td>\n",
              "      <td>0.097561</td>\n",
              "      <td>0.160839</td>\n",
              "      <td>0.161290</td>\n",
              "      <td>1</td>\n",
              "    </tr>\n",
              "    <tr>\n",
              "      <th>1</th>\n",
              "      <td>0.073171</td>\n",
              "      <td>0.204969</td>\n",
              "      <td>0.3125</td>\n",
              "      <td>0.121951</td>\n",
              "      <td>0.272727</td>\n",
              "      <td>0.064516</td>\n",
              "      <td>2</td>\n",
              "    </tr>\n",
              "    <tr>\n",
              "      <th>2</th>\n",
              "      <td>0.176829</td>\n",
              "      <td>0.279503</td>\n",
              "      <td>0.2875</td>\n",
              "      <td>0.121951</td>\n",
              "      <td>0.223776</td>\n",
              "      <td>0.161290</td>\n",
              "      <td>1</td>\n",
              "    </tr>\n",
              "    <tr>\n",
              "      <th>3</th>\n",
              "      <td>0.091463</td>\n",
              "      <td>0.217391</td>\n",
              "      <td>0.2750</td>\n",
              "      <td>0.048780</td>\n",
              "      <td>0.167832</td>\n",
              "      <td>0.064516</td>\n",
              "      <td>2</td>\n",
              "    </tr>\n",
              "    <tr>\n",
              "      <th>4</th>\n",
              "      <td>0.140244</td>\n",
              "      <td>0.248447</td>\n",
              "      <td>0.2750</td>\n",
              "      <td>0.097561</td>\n",
              "      <td>0.160839</td>\n",
              "      <td>0.096774</td>\n",
              "      <td>1</td>\n",
              "    </tr>\n",
              "  </tbody>\n",
              "</table>\n",
              "</div>\n",
              "      <button class=\"colab-df-convert\" onclick=\"convertToInteractive('df-8a917d9f-f14d-4810-9924-310c0a44d3b6')\"\n",
              "              title=\"Convert this dataframe to an interactive table.\"\n",
              "              style=\"display:none;\">\n",
              "        \n",
              "  <svg xmlns=\"http://www.w3.org/2000/svg\" height=\"24px\"viewBox=\"0 0 24 24\"\n",
              "       width=\"24px\">\n",
              "    <path d=\"M0 0h24v24H0V0z\" fill=\"none\"/>\n",
              "    <path d=\"M18.56 5.44l.94 2.06.94-2.06 2.06-.94-2.06-.94-.94-2.06-.94 2.06-2.06.94zm-11 1L8.5 8.5l.94-2.06 2.06-.94-2.06-.94L8.5 2.5l-.94 2.06-2.06.94zm10 10l.94 2.06.94-2.06 2.06-.94-2.06-.94-.94-2.06-.94 2.06-2.06.94z\"/><path d=\"M17.41 7.96l-1.37-1.37c-.4-.4-.92-.59-1.43-.59-.52 0-1.04.2-1.43.59L10.3 9.45l-7.72 7.72c-.78.78-.78 2.05 0 2.83L4 21.41c.39.39.9.59 1.41.59.51 0 1.02-.2 1.41-.59l7.78-7.78 2.81-2.81c.8-.78.8-2.07 0-2.86zM5.41 20L4 18.59l7.72-7.72 1.47 1.35L5.41 20z\"/>\n",
              "  </svg>\n",
              "      </button>\n",
              "      \n",
              "  <style>\n",
              "    .colab-df-container {\n",
              "      display:flex;\n",
              "      flex-wrap:wrap;\n",
              "      gap: 12px;\n",
              "    }\n",
              "\n",
              "    .colab-df-convert {\n",
              "      background-color: #E8F0FE;\n",
              "      border: none;\n",
              "      border-radius: 50%;\n",
              "      cursor: pointer;\n",
              "      display: none;\n",
              "      fill: #1967D2;\n",
              "      height: 32px;\n",
              "      padding: 0 0 0 0;\n",
              "      width: 32px;\n",
              "    }\n",
              "\n",
              "    .colab-df-convert:hover {\n",
              "      background-color: #E2EBFA;\n",
              "      box-shadow: 0px 1px 2px rgba(60, 64, 67, 0.3), 0px 1px 3px 1px rgba(60, 64, 67, 0.15);\n",
              "      fill: #174EA6;\n",
              "    }\n",
              "\n",
              "    [theme=dark] .colab-df-convert {\n",
              "      background-color: #3B4455;\n",
              "      fill: #D2E3FC;\n",
              "    }\n",
              "\n",
              "    [theme=dark] .colab-df-convert:hover {\n",
              "      background-color: #434B5C;\n",
              "      box-shadow: 0px 1px 3px 1px rgba(0, 0, 0, 0.15);\n",
              "      filter: drop-shadow(0px 1px 2px rgba(0, 0, 0, 0.3));\n",
              "      fill: #FFFFFF;\n",
              "    }\n",
              "  </style>\n",
              "\n",
              "      <script>\n",
              "        const buttonEl =\n",
              "          document.querySelector('#df-8a917d9f-f14d-4810-9924-310c0a44d3b6 button.colab-df-convert');\n",
              "        buttonEl.style.display =\n",
              "          google.colab.kernel.accessAllowed ? 'block' : 'none';\n",
              "\n",
              "        async function convertToInteractive(key) {\n",
              "          const element = document.querySelector('#df-8a917d9f-f14d-4810-9924-310c0a44d3b6');\n",
              "          const dataTable =\n",
              "            await google.colab.kernel.invokeFunction('convertToInteractive',\n",
              "                                                     [key], {});\n",
              "          if (!dataTable) return;\n",
              "\n",
              "          const docLinkHtml = 'Like what you see? Visit the ' +\n",
              "            '<a target=\"_blank\" href=https://colab.research.google.com/notebooks/data_table.ipynb>data table notebook</a>'\n",
              "            + ' to learn more about interactive tables.';\n",
              "          element.innerHTML = '';\n",
              "          dataTable['output_type'] = 'display_data';\n",
              "          await google.colab.output.renderOutput(dataTable, element);\n",
              "          const docLink = document.createElement('div');\n",
              "          docLink.innerHTML = docLinkHtml;\n",
              "          element.appendChild(docLink);\n",
              "        }\n",
              "      </script>\n",
              "    </div>\n",
              "  </div>\n",
              "  "
            ]
          },
          "metadata": {},
          "execution_count": 4
        }
      ]
    },
    {
      "cell_type": "code",
      "source": [
        "class_names = ['Tidak Sehat', 'Sedang', 'Sehat']"
      ],
      "metadata": {
        "id": "JQa2Nz_Mpmum"
      },
      "execution_count": null,
      "outputs": []
    },
    {
      "cell_type": "markdown",
      "source": [
        "Split Data (Data Training dan Data Testing)"
      ],
      "metadata": {
        "id": "Bb66sMWgFiFV"
      }
    },
    {
      "cell_type": "code",
      "source": [
        "#Membagi input dan output\n",
        "x = data.iloc[:,0:6].values\n",
        "y = data.iloc[:,-1].values"
      ],
      "metadata": {
        "id": "3xP3F1rDDbIA"
      },
      "execution_count": null,
      "outputs": []
    },
    {
      "cell_type": "code",
      "source": [
        "x[0]"
      ],
      "metadata": {
        "colab": {
          "base_uri": "https://localhost:8080/"
        },
        "id": "B7lVXyP6EhcY",
        "outputId": "c9a2fcea-0188-48fb-ab82-7ddcd9a99f0d"
      },
      "execution_count": null,
      "outputs": [
        {
          "output_type": "execute_result",
          "data": {
            "text/plain": [
              "array([0.1402439 , 0.2484472 , 0.3375    , 0.09756098, 0.16083916,\n",
              "       0.16129032])"
            ]
          },
          "metadata": {},
          "execution_count": 7
        }
      ]
    },
    {
      "cell_type": "code",
      "source": [
        "y[0]"
      ],
      "metadata": {
        "colab": {
          "base_uri": "https://localhost:8080/"
        },
        "id": "B0u0dbpEEkyT",
        "outputId": "87a77c51-921c-4466-e2fd-e63bdc14708c"
      },
      "execution_count": null,
      "outputs": [
        {
          "output_type": "execute_result",
          "data": {
            "text/plain": [
              "1"
            ]
          },
          "metadata": {},
          "execution_count": 8
        }
      ]
    },
    {
      "cell_type": "code",
      "source": [
        "#Split Data (Data Training dan Data Testing)\n",
        "xtrain, xtest, ytrain, ytest = train_test_split(x,y, test_size=0.2, random_state=42)"
      ],
      "metadata": {
        "id": "3i7_j9KWFHsq"
      },
      "execution_count": null,
      "outputs": []
    },
    {
      "cell_type": "code",
      "source": [
        "xtrain.shape, xtest.shape, ytrain.shape, ytest.shape "
      ],
      "metadata": {
        "colab": {
          "base_uri": "https://localhost:8080/"
        },
        "id": "imCHvyHXj4zb",
        "outputId": "1cc3a857-5175-46c2-8fea-46467b485e21"
      },
      "execution_count": null,
      "outputs": [
        {
          "output_type": "execute_result",
          "data": {
            "text/plain": [
              "((1213, 6), (304, 6), (1213,), (304,))"
            ]
          },
          "metadata": {},
          "execution_count": 10
        }
      ]
    },
    {
      "cell_type": "code",
      "source": [
        "xtrain[0]"
      ],
      "metadata": {
        "colab": {
          "base_uri": "https://localhost:8080/"
        },
        "id": "V_ScO-49kNvh",
        "outputId": "259a5f77-6fc3-43b2-8d19-4d98159eb016"
      },
      "execution_count": null,
      "outputs": [
        {
          "output_type": "execute_result",
          "data": {
            "text/plain": [
              "array([0.23170732, 0.47826087, 0.45      , 0.14634146, 0.09090909,\n",
              "       0.25806452])"
            ]
          },
          "metadata": {},
          "execution_count": 11
        }
      ]
    },
    {
      "cell_type": "code",
      "source": [
        "ytrain[0]"
      ],
      "metadata": {
        "colab": {
          "base_uri": "https://localhost:8080/"
        },
        "id": "A7HH5oPBkRUh",
        "outputId": "94fdba05-35f1-4cf9-885c-e92e936437f4"
      },
      "execution_count": null,
      "outputs": [
        {
          "output_type": "execute_result",
          "data": {
            "text/plain": [
              "1"
            ]
          },
          "metadata": {},
          "execution_count": 12
        }
      ]
    },
    {
      "cell_type": "markdown",
      "source": [
        "Membangun Model BackPropagation "
      ],
      "metadata": {
        "id": "wER3w6TV1eIG"
      }
    },
    {
      "cell_type": "code",
      "source": [
        "#Model Backpropagation\n",
        "model = tf.keras.models.Sequential() #Membuat model arsitektur\n",
        "\n",
        "model.add(tf.keras.layers.Dense(units=6, activation='relu')) #Input\n",
        "model.add(tf.keras.layers.Dense(units=28, activation='relu')) #Hidden Layer\n",
        "model.add(tf.keras.layers.Dense(units=3, activation='softmax')) #Output\n",
        "\n",
        "model.compile(loss='sparse_categorical_crossentropy', metrics=['accuracy'])\n",
        "\n",
        "hist = model.fit(xtrain,ytrain, epochs=100, batch_size=128, verbose=1, validation_data=(xtest,ytest)) \n",
        "model.evaluate(xtest, ytest, batch_size=128) "
      ],
      "metadata": {
        "colab": {
          "base_uri": "https://localhost:8080/"
        },
        "id": "seTpjM64RpW7",
        "outputId": "f15df1ae-38c1-424e-8ae1-5300ff061257"
      },
      "execution_count": null,
      "outputs": [
        {
          "output_type": "stream",
          "name": "stdout",
          "text": [
            "Epoch 1/100\n",
            "10/10 [==============================] - 1s 20ms/step - loss: 1.0832 - accuracy: 0.5309 - val_loss: 1.0347 - val_accuracy: 0.7664\n",
            "Epoch 2/100\n",
            "10/10 [==============================] - 0s 4ms/step - loss: 1.0128 - accuracy: 0.7535 - val_loss: 0.9814 - val_accuracy: 0.7664\n",
            "Epoch 3/100\n",
            "10/10 [==============================] - 0s 6ms/step - loss: 0.9651 - accuracy: 0.7535 - val_loss: 0.9349 - val_accuracy: 0.7664\n",
            "Epoch 4/100\n",
            "10/10 [==============================] - 0s 7ms/step - loss: 0.9216 - accuracy: 0.7535 - val_loss: 0.8919 - val_accuracy: 0.7664\n",
            "Epoch 5/100\n",
            "10/10 [==============================] - 0s 4ms/step - loss: 0.8813 - accuracy: 0.7535 - val_loss: 0.8503 - val_accuracy: 0.7664\n",
            "Epoch 6/100\n",
            "10/10 [==============================] - 0s 5ms/step - loss: 0.8433 - accuracy: 0.7535 - val_loss: 0.8139 - val_accuracy: 0.7664\n",
            "Epoch 7/100\n",
            "10/10 [==============================] - 0s 6ms/step - loss: 0.8099 - accuracy: 0.7535 - val_loss: 0.7799 - val_accuracy: 0.7664\n",
            "Epoch 8/100\n",
            "10/10 [==============================] - 0s 4ms/step - loss: 0.7802 - accuracy: 0.7535 - val_loss: 0.7511 - val_accuracy: 0.7664\n",
            "Epoch 9/100\n",
            "10/10 [==============================] - 0s 4ms/step - loss: 0.7559 - accuracy: 0.7535 - val_loss: 0.7280 - val_accuracy: 0.7664\n",
            "Epoch 10/100\n",
            "10/10 [==============================] - 0s 5ms/step - loss: 0.7368 - accuracy: 0.7535 - val_loss: 0.7093 - val_accuracy: 0.7664\n",
            "Epoch 11/100\n",
            "10/10 [==============================] - 0s 4ms/step - loss: 0.7211 - accuracy: 0.7535 - val_loss: 0.6932 - val_accuracy: 0.7664\n",
            "Epoch 12/100\n",
            "10/10 [==============================] - 0s 4ms/step - loss: 0.7085 - accuracy: 0.7535 - val_loss: 0.6807 - val_accuracy: 0.7664\n",
            "Epoch 13/100\n",
            "10/10 [==============================] - 0s 4ms/step - loss: 0.6980 - accuracy: 0.7535 - val_loss: 0.6694 - val_accuracy: 0.7664\n",
            "Epoch 14/100\n",
            "10/10 [==============================] - 0s 6ms/step - loss: 0.6896 - accuracy: 0.7535 - val_loss: 0.6604 - val_accuracy: 0.7664\n",
            "Epoch 15/100\n",
            "10/10 [==============================] - 0s 4ms/step - loss: 0.6820 - accuracy: 0.7535 - val_loss: 0.6526 - val_accuracy: 0.7664\n",
            "Epoch 16/100\n",
            "10/10 [==============================] - 0s 5ms/step - loss: 0.6750 - accuracy: 0.7535 - val_loss: 0.6444 - val_accuracy: 0.7664\n",
            "Epoch 17/100\n",
            "10/10 [==============================] - 0s 4ms/step - loss: 0.6675 - accuracy: 0.7535 - val_loss: 0.6367 - val_accuracy: 0.7664\n",
            "Epoch 18/100\n",
            "10/10 [==============================] - 0s 4ms/step - loss: 0.6598 - accuracy: 0.7535 - val_loss: 0.6289 - val_accuracy: 0.7664\n",
            "Epoch 19/100\n",
            "10/10 [==============================] - 0s 4ms/step - loss: 0.6527 - accuracy: 0.7535 - val_loss: 0.6219 - val_accuracy: 0.7664\n",
            "Epoch 20/100\n",
            "10/10 [==============================] - 0s 4ms/step - loss: 0.6452 - accuracy: 0.7535 - val_loss: 0.6150 - val_accuracy: 0.7664\n",
            "Epoch 21/100\n",
            "10/10 [==============================] - 0s 5ms/step - loss: 0.6375 - accuracy: 0.7535 - val_loss: 0.6074 - val_accuracy: 0.7664\n",
            "Epoch 22/100\n",
            "10/10 [==============================] - 0s 5ms/step - loss: 0.6290 - accuracy: 0.7535 - val_loss: 0.5989 - val_accuracy: 0.7664\n",
            "Epoch 23/100\n",
            "10/10 [==============================] - 0s 6ms/step - loss: 0.6195 - accuracy: 0.7552 - val_loss: 0.5904 - val_accuracy: 0.7664\n",
            "Epoch 24/100\n",
            "10/10 [==============================] - 0s 5ms/step - loss: 0.6113 - accuracy: 0.7552 - val_loss: 0.5827 - val_accuracy: 0.7664\n",
            "Epoch 25/100\n",
            "10/10 [==============================] - 0s 4ms/step - loss: 0.6023 - accuracy: 0.7560 - val_loss: 0.5746 - val_accuracy: 0.7664\n",
            "Epoch 26/100\n",
            "10/10 [==============================] - 0s 6ms/step - loss: 0.5947 - accuracy: 0.7568 - val_loss: 0.5673 - val_accuracy: 0.7664\n",
            "Epoch 27/100\n",
            "10/10 [==============================] - 0s 6ms/step - loss: 0.5852 - accuracy: 0.7593 - val_loss: 0.5584 - val_accuracy: 0.7664\n",
            "Epoch 28/100\n",
            "10/10 [==============================] - 0s 5ms/step - loss: 0.5767 - accuracy: 0.7609 - val_loss: 0.5498 - val_accuracy: 0.7730\n",
            "Epoch 29/100\n",
            "10/10 [==============================] - 0s 4ms/step - loss: 0.5666 - accuracy: 0.7650 - val_loss: 0.5426 - val_accuracy: 0.7796\n",
            "Epoch 30/100\n",
            "10/10 [==============================] - 0s 4ms/step - loss: 0.5583 - accuracy: 0.7675 - val_loss: 0.5332 - val_accuracy: 0.7763\n",
            "Epoch 31/100\n",
            "10/10 [==============================] - 0s 6ms/step - loss: 0.5488 - accuracy: 0.7659 - val_loss: 0.5256 - val_accuracy: 0.7961\n",
            "Epoch 32/100\n",
            "10/10 [==============================] - 0s 7ms/step - loss: 0.5404 - accuracy: 0.7766 - val_loss: 0.5165 - val_accuracy: 0.7961\n",
            "Epoch 33/100\n",
            "10/10 [==============================] - 0s 5ms/step - loss: 0.5306 - accuracy: 0.7749 - val_loss: 0.5096 - val_accuracy: 0.8026\n",
            "Epoch 34/100\n",
            "10/10 [==============================] - 0s 6ms/step - loss: 0.5220 - accuracy: 0.7832 - val_loss: 0.4988 - val_accuracy: 0.7993\n",
            "Epoch 35/100\n",
            "10/10 [==============================] - 0s 5ms/step - loss: 0.5124 - accuracy: 0.7857 - val_loss: 0.4895 - val_accuracy: 0.8026\n",
            "Epoch 36/100\n",
            "10/10 [==============================] - 0s 6ms/step - loss: 0.5026 - accuracy: 0.7865 - val_loss: 0.4822 - val_accuracy: 0.8092\n",
            "Epoch 37/100\n",
            "10/10 [==============================] - 0s 4ms/step - loss: 0.4933 - accuracy: 0.7923 - val_loss: 0.4728 - val_accuracy: 0.8092\n",
            "Epoch 38/100\n",
            "10/10 [==============================] - 0s 4ms/step - loss: 0.4845 - accuracy: 0.7964 - val_loss: 0.4649 - val_accuracy: 0.8026\n",
            "Epoch 39/100\n",
            "10/10 [==============================] - 0s 4ms/step - loss: 0.4760 - accuracy: 0.7898 - val_loss: 0.4569 - val_accuracy: 0.8224\n",
            "Epoch 40/100\n",
            "10/10 [==============================] - 0s 4ms/step - loss: 0.4669 - accuracy: 0.8087 - val_loss: 0.4482 - val_accuracy: 0.8092\n",
            "Epoch 41/100\n",
            "10/10 [==============================] - 0s 4ms/step - loss: 0.4581 - accuracy: 0.7988 - val_loss: 0.4398 - val_accuracy: 0.8191\n",
            "Epoch 42/100\n",
            "10/10 [==============================] - 0s 4ms/step - loss: 0.4499 - accuracy: 0.8145 - val_loss: 0.4304 - val_accuracy: 0.8224\n",
            "Epoch 43/100\n",
            "10/10 [==============================] - 0s 4ms/step - loss: 0.4410 - accuracy: 0.8137 - val_loss: 0.4222 - val_accuracy: 0.8224\n",
            "Epoch 44/100\n",
            "10/10 [==============================] - 0s 6ms/step - loss: 0.4330 - accuracy: 0.8170 - val_loss: 0.4141 - val_accuracy: 0.8191\n",
            "Epoch 45/100\n",
            "10/10 [==============================] - 0s 4ms/step - loss: 0.4239 - accuracy: 0.8219 - val_loss: 0.4058 - val_accuracy: 0.8257\n",
            "Epoch 46/100\n",
            "10/10 [==============================] - 0s 4ms/step - loss: 0.4160 - accuracy: 0.8252 - val_loss: 0.3982 - val_accuracy: 0.8322\n",
            "Epoch 47/100\n",
            "10/10 [==============================] - 0s 4ms/step - loss: 0.4078 - accuracy: 0.8277 - val_loss: 0.3902 - val_accuracy: 0.8257\n",
            "Epoch 48/100\n",
            "10/10 [==============================] - 0s 5ms/step - loss: 0.3988 - accuracy: 0.8277 - val_loss: 0.3845 - val_accuracy: 0.8520\n",
            "Epoch 49/100\n",
            "10/10 [==============================] - 0s 4ms/step - loss: 0.3911 - accuracy: 0.8392 - val_loss: 0.3748 - val_accuracy: 0.8322\n",
            "Epoch 50/100\n",
            "10/10 [==============================] - 0s 6ms/step - loss: 0.3821 - accuracy: 0.8318 - val_loss: 0.3659 - val_accuracy: 0.8322\n",
            "Epoch 51/100\n",
            "10/10 [==============================] - 0s 4ms/step - loss: 0.3749 - accuracy: 0.8359 - val_loss: 0.3596 - val_accuracy: 0.8586\n",
            "Epoch 52/100\n",
            "10/10 [==============================] - 0s 5ms/step - loss: 0.3673 - accuracy: 0.8475 - val_loss: 0.3544 - val_accuracy: 0.8322\n",
            "Epoch 53/100\n",
            "10/10 [==============================] - 0s 4ms/step - loss: 0.3602 - accuracy: 0.8343 - val_loss: 0.3456 - val_accuracy: 0.8553\n",
            "Epoch 54/100\n",
            "10/10 [==============================] - 0s 6ms/step - loss: 0.3527 - accuracy: 0.8467 - val_loss: 0.3394 - val_accuracy: 0.8586\n",
            "Epoch 55/100\n",
            "10/10 [==============================] - 0s 4ms/step - loss: 0.3452 - accuracy: 0.8491 - val_loss: 0.3321 - val_accuracy: 0.8553\n",
            "Epoch 56/100\n",
            "10/10 [==============================] - 0s 6ms/step - loss: 0.3385 - accuracy: 0.8516 - val_loss: 0.3246 - val_accuracy: 0.8586\n",
            "Epoch 57/100\n",
            "10/10 [==============================] - 0s 4ms/step - loss: 0.3315 - accuracy: 0.8508 - val_loss: 0.3192 - val_accuracy: 0.8717\n",
            "Epoch 58/100\n",
            "10/10 [==============================] - 0s 5ms/step - loss: 0.3242 - accuracy: 0.8582 - val_loss: 0.3122 - val_accuracy: 0.8717\n",
            "Epoch 59/100\n",
            "10/10 [==============================] - 0s 5ms/step - loss: 0.3174 - accuracy: 0.8607 - val_loss: 0.3047 - val_accuracy: 0.8783\n",
            "Epoch 60/100\n",
            "10/10 [==============================] - 0s 4ms/step - loss: 0.3109 - accuracy: 0.8631 - val_loss: 0.3002 - val_accuracy: 0.8882\n",
            "Epoch 61/100\n",
            "10/10 [==============================] - 0s 6ms/step - loss: 0.3049 - accuracy: 0.8656 - val_loss: 0.2927 - val_accuracy: 0.8914\n",
            "Epoch 62/100\n",
            "10/10 [==============================] - 0s 4ms/step - loss: 0.2982 - accuracy: 0.8689 - val_loss: 0.2869 - val_accuracy: 0.9079\n",
            "Epoch 63/100\n",
            "10/10 [==============================] - 0s 7ms/step - loss: 0.2924 - accuracy: 0.8780 - val_loss: 0.2810 - val_accuracy: 0.9112\n",
            "Epoch 64/100\n",
            "10/10 [==============================] - 0s 4ms/step - loss: 0.2868 - accuracy: 0.8879 - val_loss: 0.2766 - val_accuracy: 0.8914\n",
            "Epoch 65/100\n",
            "10/10 [==============================] - 0s 4ms/step - loss: 0.2817 - accuracy: 0.8846 - val_loss: 0.2706 - val_accuracy: 0.9013\n",
            "Epoch 66/100\n",
            "10/10 [==============================] - 0s 4ms/step - loss: 0.2761 - accuracy: 0.8813 - val_loss: 0.2650 - val_accuracy: 0.9178\n",
            "Epoch 67/100\n",
            "10/10 [==============================] - 0s 4ms/step - loss: 0.2718 - accuracy: 0.8928 - val_loss: 0.2627 - val_accuracy: 0.8947\n",
            "Epoch 68/100\n",
            "10/10 [==============================] - 0s 4ms/step - loss: 0.2671 - accuracy: 0.8904 - val_loss: 0.2572 - val_accuracy: 0.9013\n",
            "Epoch 69/100\n",
            "10/10 [==============================] - 0s 6ms/step - loss: 0.2632 - accuracy: 0.8945 - val_loss: 0.2532 - val_accuracy: 0.9178\n",
            "Epoch 70/100\n",
            "10/10 [==============================] - 0s 4ms/step - loss: 0.2580 - accuracy: 0.9027 - val_loss: 0.2487 - val_accuracy: 0.9211\n",
            "Epoch 71/100\n",
            "10/10 [==============================] - 0s 5ms/step - loss: 0.2543 - accuracy: 0.9068 - val_loss: 0.2507 - val_accuracy: 0.8980\n",
            "Epoch 72/100\n",
            "10/10 [==============================] - 0s 4ms/step - loss: 0.2507 - accuracy: 0.9027 - val_loss: 0.2409 - val_accuracy: 0.9211\n",
            "Epoch 73/100\n",
            "10/10 [==============================] - 0s 4ms/step - loss: 0.2482 - accuracy: 0.9060 - val_loss: 0.2374 - val_accuracy: 0.9276\n",
            "Epoch 74/100\n",
            "10/10 [==============================] - 0s 4ms/step - loss: 0.2439 - accuracy: 0.9110 - val_loss: 0.2340 - val_accuracy: 0.9375\n",
            "Epoch 75/100\n",
            "10/10 [==============================] - 0s 4ms/step - loss: 0.2402 - accuracy: 0.9159 - val_loss: 0.2319 - val_accuracy: 0.9276\n",
            "Epoch 76/100\n",
            "10/10 [==============================] - 0s 5ms/step - loss: 0.2378 - accuracy: 0.9176 - val_loss: 0.2275 - val_accuracy: 0.9408\n",
            "Epoch 77/100\n",
            "10/10 [==============================] - 0s 6ms/step - loss: 0.2341 - accuracy: 0.9134 - val_loss: 0.2257 - val_accuracy: 0.9408\n",
            "Epoch 78/100\n",
            "10/10 [==============================] - 0s 4ms/step - loss: 0.2316 - accuracy: 0.9217 - val_loss: 0.2220 - val_accuracy: 0.9375\n",
            "Epoch 79/100\n",
            "10/10 [==============================] - 0s 4ms/step - loss: 0.2269 - accuracy: 0.9209 - val_loss: 0.2202 - val_accuracy: 0.9408\n",
            "Epoch 80/100\n",
            "10/10 [==============================] - 0s 6ms/step - loss: 0.2247 - accuracy: 0.9250 - val_loss: 0.2146 - val_accuracy: 0.9408\n",
            "Epoch 81/100\n",
            "10/10 [==============================] - 0s 6ms/step - loss: 0.2210 - accuracy: 0.9258 - val_loss: 0.2119 - val_accuracy: 0.9408\n",
            "Epoch 82/100\n",
            "10/10 [==============================] - 0s 5ms/step - loss: 0.2179 - accuracy: 0.9266 - val_loss: 0.2081 - val_accuracy: 0.9441\n",
            "Epoch 83/100\n",
            "10/10 [==============================] - 0s 6ms/step - loss: 0.2163 - accuracy: 0.9250 - val_loss: 0.2048 - val_accuracy: 0.9441\n",
            "Epoch 84/100\n",
            "10/10 [==============================] - 0s 4ms/step - loss: 0.2123 - accuracy: 0.9275 - val_loss: 0.2040 - val_accuracy: 0.9408\n",
            "Epoch 85/100\n",
            "10/10 [==============================] - 0s 5ms/step - loss: 0.2108 - accuracy: 0.9242 - val_loss: 0.2002 - val_accuracy: 0.9441\n",
            "Epoch 86/100\n",
            "10/10 [==============================] - 0s 7ms/step - loss: 0.2087 - accuracy: 0.9250 - val_loss: 0.1971 - val_accuracy: 0.9441\n",
            "Epoch 87/100\n",
            "10/10 [==============================] - 0s 4ms/step - loss: 0.2055 - accuracy: 0.9291 - val_loss: 0.2027 - val_accuracy: 0.9211\n",
            "Epoch 88/100\n",
            "10/10 [==============================] - 0s 4ms/step - loss: 0.2026 - accuracy: 0.9225 - val_loss: 0.1943 - val_accuracy: 0.9441\n",
            "Epoch 89/100\n",
            "10/10 [==============================] - 0s 4ms/step - loss: 0.2021 - accuracy: 0.9275 - val_loss: 0.1951 - val_accuracy: 0.9375\n",
            "Epoch 90/100\n",
            "10/10 [==============================] - 0s 4ms/step - loss: 0.1991 - accuracy: 0.9324 - val_loss: 0.1888 - val_accuracy: 0.9375\n",
            "Epoch 91/100\n",
            "10/10 [==============================] - 0s 4ms/step - loss: 0.1991 - accuracy: 0.9275 - val_loss: 0.1863 - val_accuracy: 0.9441\n",
            "Epoch 92/100\n",
            "10/10 [==============================] - 0s 6ms/step - loss: 0.1965 - accuracy: 0.9299 - val_loss: 0.1848 - val_accuracy: 0.9408\n",
            "Epoch 93/100\n",
            "10/10 [==============================] - 0s 5ms/step - loss: 0.1947 - accuracy: 0.9258 - val_loss: 0.1833 - val_accuracy: 0.9408\n",
            "Epoch 94/100\n",
            "10/10 [==============================] - 0s 5ms/step - loss: 0.1931 - accuracy: 0.9316 - val_loss: 0.1816 - val_accuracy: 0.9375\n",
            "Epoch 95/100\n",
            "10/10 [==============================] - 0s 4ms/step - loss: 0.1913 - accuracy: 0.9308 - val_loss: 0.1826 - val_accuracy: 0.9375\n",
            "Epoch 96/100\n",
            "10/10 [==============================] - 0s 5ms/step - loss: 0.1899 - accuracy: 0.9299 - val_loss: 0.1814 - val_accuracy: 0.9441\n",
            "Epoch 97/100\n",
            "10/10 [==============================] - 0s 4ms/step - loss: 0.1884 - accuracy: 0.9283 - val_loss: 0.1765 - val_accuracy: 0.9408\n",
            "Epoch 98/100\n",
            "10/10 [==============================] - 0s 4ms/step - loss: 0.1864 - accuracy: 0.9373 - val_loss: 0.1739 - val_accuracy: 0.9408\n",
            "Epoch 99/100\n",
            "10/10 [==============================] - 0s 5ms/step - loss: 0.1860 - accuracy: 0.9308 - val_loss: 0.1735 - val_accuracy: 0.9441\n",
            "Epoch 100/100\n",
            "10/10 [==============================] - 0s 5ms/step - loss: 0.1835 - accuracy: 0.9340 - val_loss: 0.1731 - val_accuracy: 0.9441\n",
            "3/3 [==============================] - 0s 4ms/step - loss: 0.1731 - accuracy: 0.9441\n"
          ]
        },
        {
          "output_type": "execute_result",
          "data": {
            "text/plain": [
              "[0.1731252819299698, 0.9440789222717285]"
            ]
          },
          "metadata": {},
          "execution_count": 20
        }
      ]
    },
    {
      "cell_type": "code",
      "source": [
        "#Model Backpropagation\n",
        "modal = tf.keras.models.Sequential() #Membuat model arsitektur\n",
        "\n",
        "modal.add(tf.keras.layers.Dense(units=6, activation='relu')) #Input\n",
        "modal.add(tf.keras.layers.Dense(units=28, activation='relu')) #Hidden Layer\n",
        "modal.add(tf.keras.layers.Dense(units=3, activation='softmax')) #Output\n",
        "\n",
        "modal.compile(optimizer='adam', loss='sparse_categorical_crossentropy', metrics=['accuracy'])\n",
        "\n",
        "hista = modal.fit(xtrain,ytrain, epochs=100, batch_size=128, validation_data=(xtest,ytest)) \n",
        "modal.evaluate(xtest, ytest, batch_size=128) "
      ],
      "metadata": {
        "id": "QSlhv25EkrMi",
        "colab": {
          "base_uri": "https://localhost:8080/"
        },
        "outputId": "00fee5de-a6d1-496f-ab06-66e12cd4bfbf"
      },
      "execution_count": null,
      "outputs": [
        {
          "output_type": "stream",
          "name": "stdout",
          "text": [
            "Epoch 1/100\n",
            "10/10 [==============================] - 1s 20ms/step - loss: 1.1650 - accuracy: 0.0833 - val_loss: 1.1414 - val_accuracy: 0.0658\n",
            "Epoch 2/100\n",
            "10/10 [==============================] - 0s 6ms/step - loss: 1.1234 - accuracy: 0.0684 - val_loss: 1.1025 - val_accuracy: 0.1118\n",
            "Epoch 3/100\n",
            "10/10 [==============================] - 0s 4ms/step - loss: 1.0877 - accuracy: 0.3627 - val_loss: 1.0685 - val_accuracy: 0.7204\n",
            "Epoch 4/100\n",
            "10/10 [==============================] - 0s 4ms/step - loss: 1.0563 - accuracy: 0.7453 - val_loss: 1.0379 - val_accuracy: 0.7664\n",
            "Epoch 5/100\n",
            "10/10 [==============================] - 0s 4ms/step - loss: 1.0267 - accuracy: 0.7535 - val_loss: 1.0082 - val_accuracy: 0.7664\n",
            "Epoch 6/100\n",
            "10/10 [==============================] - 0s 8ms/step - loss: 0.9973 - accuracy: 0.7535 - val_loss: 0.9770 - val_accuracy: 0.7664\n",
            "Epoch 7/100\n",
            "10/10 [==============================] - 0s 4ms/step - loss: 0.9666 - accuracy: 0.7535 - val_loss: 0.9440 - val_accuracy: 0.7664\n",
            "Epoch 8/100\n",
            "10/10 [==============================] - 0s 4ms/step - loss: 0.9332 - accuracy: 0.7535 - val_loss: 0.9080 - val_accuracy: 0.7664\n",
            "Epoch 9/100\n",
            "10/10 [==============================] - 0s 4ms/step - loss: 0.8974 - accuracy: 0.7535 - val_loss: 0.8688 - val_accuracy: 0.7664\n",
            "Epoch 10/100\n",
            "10/10 [==============================] - 0s 7ms/step - loss: 0.8600 - accuracy: 0.7535 - val_loss: 0.8289 - val_accuracy: 0.7664\n",
            "Epoch 11/100\n",
            "10/10 [==============================] - 0s 4ms/step - loss: 0.8225 - accuracy: 0.7535 - val_loss: 0.7912 - val_accuracy: 0.7664\n",
            "Epoch 12/100\n",
            "10/10 [==============================] - 0s 6ms/step - loss: 0.7882 - accuracy: 0.7535 - val_loss: 0.7579 - val_accuracy: 0.7664\n",
            "Epoch 13/100\n",
            "10/10 [==============================] - 0s 5ms/step - loss: 0.7597 - accuracy: 0.7535 - val_loss: 0.7301 - val_accuracy: 0.7664\n",
            "Epoch 14/100\n",
            "10/10 [==============================] - 0s 4ms/step - loss: 0.7367 - accuracy: 0.7535 - val_loss: 0.7087 - val_accuracy: 0.7664\n",
            "Epoch 15/100\n",
            "10/10 [==============================] - 0s 6ms/step - loss: 0.7193 - accuracy: 0.7535 - val_loss: 0.6929 - val_accuracy: 0.7664\n",
            "Epoch 16/100\n",
            "10/10 [==============================] - 0s 5ms/step - loss: 0.7079 - accuracy: 0.7535 - val_loss: 0.6804 - val_accuracy: 0.7664\n",
            "Epoch 17/100\n",
            "10/10 [==============================] - 0s 4ms/step - loss: 0.6985 - accuracy: 0.7535 - val_loss: 0.6714 - val_accuracy: 0.7664\n",
            "Epoch 18/100\n",
            "10/10 [==============================] - 0s 4ms/step - loss: 0.6920 - accuracy: 0.7535 - val_loss: 0.6641 - val_accuracy: 0.7664\n",
            "Epoch 19/100\n",
            "10/10 [==============================] - 0s 6ms/step - loss: 0.6867 - accuracy: 0.7535 - val_loss: 0.6582 - val_accuracy: 0.7664\n",
            "Epoch 20/100\n",
            "10/10 [==============================] - 0s 5ms/step - loss: 0.6817 - accuracy: 0.7535 - val_loss: 0.6528 - val_accuracy: 0.7664\n",
            "Epoch 21/100\n",
            "10/10 [==============================] - 0s 4ms/step - loss: 0.6767 - accuracy: 0.7535 - val_loss: 0.6479 - val_accuracy: 0.7664\n",
            "Epoch 22/100\n",
            "10/10 [==============================] - 0s 4ms/step - loss: 0.6720 - accuracy: 0.7535 - val_loss: 0.6427 - val_accuracy: 0.7664\n",
            "Epoch 23/100\n",
            "10/10 [==============================] - 0s 6ms/step - loss: 0.6666 - accuracy: 0.7535 - val_loss: 0.6373 - val_accuracy: 0.7664\n",
            "Epoch 24/100\n",
            "10/10 [==============================] - 0s 6ms/step - loss: 0.6613 - accuracy: 0.7535 - val_loss: 0.6316 - val_accuracy: 0.7664\n",
            "Epoch 25/100\n",
            "10/10 [==============================] - 0s 4ms/step - loss: 0.6553 - accuracy: 0.7535 - val_loss: 0.6261 - val_accuracy: 0.7664\n",
            "Epoch 26/100\n",
            "10/10 [==============================] - 0s 4ms/step - loss: 0.6497 - accuracy: 0.7535 - val_loss: 0.6203 - val_accuracy: 0.7664\n",
            "Epoch 27/100\n",
            "10/10 [==============================] - 0s 5ms/step - loss: 0.6433 - accuracy: 0.7535 - val_loss: 0.6137 - val_accuracy: 0.7664\n",
            "Epoch 28/100\n",
            "10/10 [==============================] - 0s 6ms/step - loss: 0.6370 - accuracy: 0.7535 - val_loss: 0.6071 - val_accuracy: 0.7664\n",
            "Epoch 29/100\n",
            "10/10 [==============================] - 0s 5ms/step - loss: 0.6297 - accuracy: 0.7535 - val_loss: 0.6003 - val_accuracy: 0.7664\n",
            "Epoch 30/100\n",
            "10/10 [==============================] - 0s 4ms/step - loss: 0.6224 - accuracy: 0.7535 - val_loss: 0.5933 - val_accuracy: 0.7664\n",
            "Epoch 31/100\n",
            "10/10 [==============================] - 0s 5ms/step - loss: 0.6150 - accuracy: 0.7535 - val_loss: 0.5856 - val_accuracy: 0.7664\n",
            "Epoch 32/100\n",
            "10/10 [==============================] - 0s 6ms/step - loss: 0.6068 - accuracy: 0.7535 - val_loss: 0.5777 - val_accuracy: 0.7664\n",
            "Epoch 33/100\n",
            "10/10 [==============================] - 0s 7ms/step - loss: 0.5982 - accuracy: 0.7535 - val_loss: 0.5691 - val_accuracy: 0.7664\n",
            "Epoch 34/100\n",
            "10/10 [==============================] - 0s 5ms/step - loss: 0.5892 - accuracy: 0.7535 - val_loss: 0.5601 - val_accuracy: 0.7664\n",
            "Epoch 35/100\n",
            "10/10 [==============================] - 0s 6ms/step - loss: 0.5795 - accuracy: 0.7535 - val_loss: 0.5506 - val_accuracy: 0.7664\n",
            "Epoch 36/100\n",
            "10/10 [==============================] - 0s 5ms/step - loss: 0.5695 - accuracy: 0.7560 - val_loss: 0.5406 - val_accuracy: 0.7664\n",
            "Epoch 37/100\n",
            "10/10 [==============================] - 0s 8ms/step - loss: 0.5591 - accuracy: 0.7593 - val_loss: 0.5302 - val_accuracy: 0.7697\n",
            "Epoch 38/100\n",
            "10/10 [==============================] - 0s 4ms/step - loss: 0.5484 - accuracy: 0.7601 - val_loss: 0.5197 - val_accuracy: 0.7730\n",
            "Epoch 39/100\n",
            "10/10 [==============================] - 0s 4ms/step - loss: 0.5364 - accuracy: 0.7642 - val_loss: 0.5086 - val_accuracy: 0.7796\n",
            "Epoch 40/100\n",
            "10/10 [==============================] - 0s 6ms/step - loss: 0.5254 - accuracy: 0.7708 - val_loss: 0.4973 - val_accuracy: 0.7862\n",
            "Epoch 41/100\n",
            "10/10 [==============================] - 0s 6ms/step - loss: 0.5129 - accuracy: 0.7716 - val_loss: 0.4863 - val_accuracy: 0.7862\n",
            "Epoch 42/100\n",
            "10/10 [==============================] - 0s 5ms/step - loss: 0.5007 - accuracy: 0.7741 - val_loss: 0.4744 - val_accuracy: 0.7928\n",
            "Epoch 43/100\n",
            "10/10 [==============================] - 0s 4ms/step - loss: 0.4882 - accuracy: 0.7782 - val_loss: 0.4627 - val_accuracy: 0.7928\n",
            "Epoch 44/100\n",
            "10/10 [==============================] - 0s 4ms/step - loss: 0.4758 - accuracy: 0.7815 - val_loss: 0.4507 - val_accuracy: 0.7961\n",
            "Epoch 45/100\n",
            "10/10 [==============================] - 0s 4ms/step - loss: 0.4636 - accuracy: 0.7857 - val_loss: 0.4391 - val_accuracy: 0.8026\n",
            "Epoch 46/100\n",
            "10/10 [==============================] - 0s 5ms/step - loss: 0.4517 - accuracy: 0.7931 - val_loss: 0.4281 - val_accuracy: 0.8059\n",
            "Epoch 47/100\n",
            "10/10 [==============================] - 0s 5ms/step - loss: 0.4392 - accuracy: 0.7964 - val_loss: 0.4168 - val_accuracy: 0.8059\n",
            "Epoch 48/100\n",
            "10/10 [==============================] - 0s 5ms/step - loss: 0.4278 - accuracy: 0.7997 - val_loss: 0.4057 - val_accuracy: 0.8059\n",
            "Epoch 49/100\n",
            "10/10 [==============================] - 0s 4ms/step - loss: 0.4164 - accuracy: 0.8030 - val_loss: 0.3947 - val_accuracy: 0.8158\n",
            "Epoch 50/100\n",
            "10/10 [==============================] - 0s 5ms/step - loss: 0.4055 - accuracy: 0.8096 - val_loss: 0.3845 - val_accuracy: 0.8191\n",
            "Epoch 51/100\n",
            "10/10 [==============================] - 0s 4ms/step - loss: 0.3937 - accuracy: 0.8170 - val_loss: 0.3732 - val_accuracy: 0.8224\n",
            "Epoch 52/100\n",
            "10/10 [==============================] - 0s 5ms/step - loss: 0.3819 - accuracy: 0.8261 - val_loss: 0.3623 - val_accuracy: 0.8355\n",
            "Epoch 53/100\n",
            "10/10 [==============================] - 0s 5ms/step - loss: 0.3709 - accuracy: 0.8302 - val_loss: 0.3527 - val_accuracy: 0.8355\n",
            "Epoch 54/100\n",
            "10/10 [==============================] - 0s 6ms/step - loss: 0.3606 - accuracy: 0.8401 - val_loss: 0.3423 - val_accuracy: 0.8421\n",
            "Epoch 55/100\n",
            "10/10 [==============================] - 0s 6ms/step - loss: 0.3507 - accuracy: 0.8491 - val_loss: 0.3333 - val_accuracy: 0.8553\n",
            "Epoch 56/100\n",
            "10/10 [==============================] - 0s 4ms/step - loss: 0.3413 - accuracy: 0.8524 - val_loss: 0.3252 - val_accuracy: 0.8586\n",
            "Epoch 57/100\n",
            "10/10 [==============================] - 0s 6ms/step - loss: 0.3319 - accuracy: 0.8631 - val_loss: 0.3164 - val_accuracy: 0.8849\n",
            "Epoch 58/100\n",
            "10/10 [==============================] - 0s 5ms/step - loss: 0.3239 - accuracy: 0.8664 - val_loss: 0.3098 - val_accuracy: 0.8717\n",
            "Epoch 59/100\n",
            "10/10 [==============================] - 0s 4ms/step - loss: 0.3152 - accuracy: 0.8747 - val_loss: 0.3015 - val_accuracy: 0.8947\n",
            "Epoch 60/100\n",
            "10/10 [==============================] - 0s 4ms/step - loss: 0.3075 - accuracy: 0.8788 - val_loss: 0.2937 - val_accuracy: 0.8947\n",
            "Epoch 61/100\n",
            "10/10 [==============================] - 0s 6ms/step - loss: 0.3005 - accuracy: 0.8747 - val_loss: 0.2875 - val_accuracy: 0.8914\n",
            "Epoch 62/100\n",
            "10/10 [==============================] - 0s 4ms/step - loss: 0.2936 - accuracy: 0.8854 - val_loss: 0.2800 - val_accuracy: 0.9145\n",
            "Epoch 63/100\n",
            "10/10 [==============================] - 0s 6ms/step - loss: 0.2874 - accuracy: 0.8895 - val_loss: 0.2753 - val_accuracy: 0.8914\n",
            "Epoch 64/100\n",
            "10/10 [==============================] - 0s 6ms/step - loss: 0.2814 - accuracy: 0.8895 - val_loss: 0.2685 - val_accuracy: 0.9145\n",
            "Epoch 65/100\n",
            "10/10 [==============================] - 0s 4ms/step - loss: 0.2756 - accuracy: 0.8928 - val_loss: 0.2637 - val_accuracy: 0.9046\n",
            "Epoch 66/100\n",
            "10/10 [==============================] - 0s 4ms/step - loss: 0.2701 - accuracy: 0.8994 - val_loss: 0.2578 - val_accuracy: 0.9211\n",
            "Epoch 67/100\n",
            "10/10 [==============================] - 0s 4ms/step - loss: 0.2654 - accuracy: 0.9002 - val_loss: 0.2526 - val_accuracy: 0.9178\n",
            "Epoch 68/100\n",
            "10/10 [==============================] - 0s 5ms/step - loss: 0.2604 - accuracy: 0.8978 - val_loss: 0.2484 - val_accuracy: 0.9211\n",
            "Epoch 69/100\n",
            "10/10 [==============================] - 0s 4ms/step - loss: 0.2559 - accuracy: 0.9019 - val_loss: 0.2441 - val_accuracy: 0.9243\n",
            "Epoch 70/100\n",
            "10/10 [==============================] - 0s 4ms/step - loss: 0.2512 - accuracy: 0.9077 - val_loss: 0.2406 - val_accuracy: 0.9243\n",
            "Epoch 71/100\n",
            "10/10 [==============================] - 0s 5ms/step - loss: 0.2472 - accuracy: 0.9101 - val_loss: 0.2352 - val_accuracy: 0.9276\n",
            "Epoch 72/100\n",
            "10/10 [==============================] - 0s 5ms/step - loss: 0.2434 - accuracy: 0.9093 - val_loss: 0.2312 - val_accuracy: 0.9243\n",
            "Epoch 73/100\n",
            "10/10 [==============================] - 0s 8ms/step - loss: 0.2410 - accuracy: 0.9225 - val_loss: 0.2273 - val_accuracy: 0.9342\n",
            "Epoch 74/100\n",
            "10/10 [==============================] - 0s 4ms/step - loss: 0.2355 - accuracy: 0.9159 - val_loss: 0.2254 - val_accuracy: 0.9276\n",
            "Epoch 75/100\n",
            "10/10 [==============================] - 0s 8ms/step - loss: 0.2331 - accuracy: 0.9143 - val_loss: 0.2205 - val_accuracy: 0.9375\n",
            "Epoch 76/100\n",
            "10/10 [==============================] - 0s 4ms/step - loss: 0.2294 - accuracy: 0.9217 - val_loss: 0.2173 - val_accuracy: 0.9342\n",
            "Epoch 77/100\n",
            "10/10 [==============================] - 0s 4ms/step - loss: 0.2262 - accuracy: 0.9225 - val_loss: 0.2143 - val_accuracy: 0.9375\n",
            "Epoch 78/100\n",
            "10/10 [==============================] - 0s 4ms/step - loss: 0.2240 - accuracy: 0.9266 - val_loss: 0.2111 - val_accuracy: 0.9375\n",
            "Epoch 79/100\n",
            "10/10 [==============================] - 0s 5ms/step - loss: 0.2208 - accuracy: 0.9176 - val_loss: 0.2091 - val_accuracy: 0.9276\n",
            "Epoch 80/100\n",
            "10/10 [==============================] - 0s 5ms/step - loss: 0.2179 - accuracy: 0.9250 - val_loss: 0.2046 - val_accuracy: 0.9474\n",
            "Epoch 81/100\n",
            "10/10 [==============================] - 0s 5ms/step - loss: 0.2153 - accuracy: 0.9299 - val_loss: 0.2024 - val_accuracy: 0.9375\n",
            "Epoch 82/100\n",
            "10/10 [==============================] - 0s 4ms/step - loss: 0.2129 - accuracy: 0.9283 - val_loss: 0.2005 - val_accuracy: 0.9441\n",
            "Epoch 83/100\n",
            "10/10 [==============================] - 0s 4ms/step - loss: 0.2104 - accuracy: 0.9250 - val_loss: 0.1982 - val_accuracy: 0.9375\n",
            "Epoch 84/100\n",
            "10/10 [==============================] - 0s 4ms/step - loss: 0.2085 - accuracy: 0.9324 - val_loss: 0.1946 - val_accuracy: 0.9474\n",
            "Epoch 85/100\n",
            "10/10 [==============================] - 0s 6ms/step - loss: 0.2067 - accuracy: 0.9266 - val_loss: 0.1938 - val_accuracy: 0.9441\n",
            "Epoch 86/100\n",
            "10/10 [==============================] - 0s 7ms/step - loss: 0.2037 - accuracy: 0.9283 - val_loss: 0.1899 - val_accuracy: 0.9474\n",
            "Epoch 87/100\n",
            "10/10 [==============================] - 0s 5ms/step - loss: 0.2028 - accuracy: 0.9382 - val_loss: 0.1882 - val_accuracy: 0.9474\n",
            "Epoch 88/100\n",
            "10/10 [==============================] - 0s 4ms/step - loss: 0.2004 - accuracy: 0.9291 - val_loss: 0.1866 - val_accuracy: 0.9474\n",
            "Epoch 89/100\n",
            "10/10 [==============================] - 0s 7ms/step - loss: 0.1981 - accuracy: 0.9332 - val_loss: 0.1845 - val_accuracy: 0.9507\n",
            "Epoch 90/100\n",
            "10/10 [==============================] - 0s 5ms/step - loss: 0.1964 - accuracy: 0.9365 - val_loss: 0.1821 - val_accuracy: 0.9572\n",
            "Epoch 91/100\n",
            "10/10 [==============================] - 0s 4ms/step - loss: 0.1945 - accuracy: 0.9373 - val_loss: 0.1808 - val_accuracy: 0.9507\n",
            "Epoch 92/100\n",
            "10/10 [==============================] - 0s 4ms/step - loss: 0.1936 - accuracy: 0.9266 - val_loss: 0.1782 - val_accuracy: 0.9507\n",
            "Epoch 93/100\n",
            "10/10 [==============================] - 0s 5ms/step - loss: 0.1916 - accuracy: 0.9357 - val_loss: 0.1757 - val_accuracy: 0.9572\n",
            "Epoch 94/100\n",
            "10/10 [==============================] - 0s 4ms/step - loss: 0.1899 - accuracy: 0.9382 - val_loss: 0.1750 - val_accuracy: 0.9507\n",
            "Epoch 95/100\n",
            "10/10 [==============================] - 0s 6ms/step - loss: 0.1888 - accuracy: 0.9332 - val_loss: 0.1738 - val_accuracy: 0.9572\n",
            "Epoch 96/100\n",
            "10/10 [==============================] - 0s 4ms/step - loss: 0.1874 - accuracy: 0.9382 - val_loss: 0.1711 - val_accuracy: 0.9572\n",
            "Epoch 97/100\n",
            "10/10 [==============================] - 0s 4ms/step - loss: 0.1861 - accuracy: 0.9373 - val_loss: 0.1712 - val_accuracy: 0.9507\n",
            "Epoch 98/100\n",
            "10/10 [==============================] - 0s 4ms/step - loss: 0.1839 - accuracy: 0.9324 - val_loss: 0.1677 - val_accuracy: 0.9605\n",
            "Epoch 99/100\n",
            "10/10 [==============================] - 0s 5ms/step - loss: 0.1835 - accuracy: 0.9373 - val_loss: 0.1666 - val_accuracy: 0.9572\n",
            "Epoch 100/100\n",
            "10/10 [==============================] - 0s 4ms/step - loss: 0.1822 - accuracy: 0.9340 - val_loss: 0.1654 - val_accuracy: 0.9572\n",
            "3/3 [==============================] - 0s 4ms/step - loss: 0.1654 - accuracy: 0.9572\n"
          ]
        },
        {
          "output_type": "execute_result",
          "data": {
            "text/plain": [
              "[0.16541588306427002, 0.9572368264198303]"
            ]
          },
          "metadata": {},
          "execution_count": 19
        }
      ]
    },
    {
      "cell_type": "markdown",
      "source": [
        "Pengujian / Evaluasi Model"
      ],
      "metadata": {
        "id": "XcSJEuyScAgu"
      }
    },
    {
      "cell_type": "code",
      "source": [
        "pd.DataFrame(hist.history).plot(title=\"Evaluasi Model\")"
      ],
      "metadata": {
        "colab": {
          "base_uri": "https://localhost:8080/",
          "height": 298
        },
        "id": "npQuuyJIoLEv",
        "outputId": "5b3d288a-1250-4774-d9c9-ffd88015d9e1"
      },
      "execution_count": null,
      "outputs": [
        {
          "output_type": "execute_result",
          "data": {
            "text/plain": [
              "<matplotlib.axes._subplots.AxesSubplot at 0x7f97513e7a90>"
            ]
          },
          "metadata": {},
          "execution_count": 21
        },
        {
          "output_type": "display_data",
          "data": {
            "text/plain": [
              "<Figure size 432x288 with 1 Axes>"
            ],
            "image/png": "[encoded data removed]"
          },
          "metadata": {
            "needs_background": "light"
          }
        }
      ]
    },
    {
      "cell_type": "code",
      "source": [
        "pd.DataFrame(hista.history).plot(title=\"Evaluasi Model\")"
      ],
      "metadata": {
        "id": "q876JIeZGJbm",
        "outputId": "1b39bd14-6fae-4ee7-e487-6474994c72d6",
        "colab": {
          "base_uri": "https://localhost:8080/",
          "height": 298
        }
      },
      "execution_count": null,
      "outputs": [
        {
          "output_type": "execute_result",
          "data": {
            "text/plain": [
              "<matplotlib.axes._subplots.AxesSubplot at 0x7f97512b1d60>"
            ]
          },
          "metadata": {},
          "execution_count": 22
        },
        {
          "output_type": "display_data",
          "data": {
            "text/plain": [
              "<Figure size 432x288 with 1 Axes>"
            ],
            "image/png": "[encoded data removed]"
          },
          "metadata": {
            "needs_background": "light"
          }
        }
      ]
    },
    {
      "cell_type": "code",
      "source": [
        "plt.plot(hist.history['accuracy'], label='Accuracy')\n",
        "plt.plot(hist.history['val_accuracy'], label='val_Accuracy')\n",
        "plt.legend(loc='lower right')\n",
        "plt.title('Accuracy evolution')"
      ],
      "metadata": {
        "colab": {
          "base_uri": "https://localhost:8080/",
          "height": 298
        },
        "id": "sb4WBWq01Yi8",
        "outputId": "45c828b1-51f9-49d0-8cd4-aceec3c04664"
      },
      "execution_count": null,
      "outputs": [
        {
          "output_type": "execute_result",
          "data": {
            "text/plain": [
              "Text(0.5, 1.0, 'Accuracy evolution')"
            ]
          },
          "metadata": {},
          "execution_count": 36
        },
        {
          "output_type": "display_data",
          "data": {
            "text/plain": [
              "<Figure size 432x288 with 1 Axes>"
            ],
            "image/png": "[encoded data removed]"
          },
          "metadata": {
            "needs_background": "light"
          }
        }
      ]
    },
    {
      "cell_type": "code",
      "source": [
        "plt.plot(hist.history['loss'], label='Loss')\n",
        "plt.plot(hist.history['val_loss'], label='val_Loss')\n",
        "plt.legend()\n",
        "plt.title('Loss evolution')"
      ],
      "metadata": {
        "colab": {
          "base_uri": "https://localhost:8080/",
          "height": 298
        },
        "id": "zX9VT5Xv1NtZ",
        "outputId": "9fd69d6d-d179-42f4-d03b-09e049b32982"
      },
      "execution_count": null,
      "outputs": [
        {
          "output_type": "execute_result",
          "data": {
            "text/plain": [
              "Text(0.5, 1.0, 'Loss evolution')"
            ]
          },
          "metadata": {},
          "execution_count": 37
        },
        {
          "output_type": "display_data",
          "data": {
            "text/plain": [
              "<Figure size 432x288 with 1 Axes>"
            ],
            "image/png": "[encoded data removed]"
          },
          "metadata": {
            "needs_background": "light"
          }
        }
      ]
    },
    {
      "cell_type": "code",
      "source": [
        "yprediksi = model.predict(xtest)"
      ],
      "metadata": {
        "colab": {
          "base_uri": "https://localhost:8080/"
        },
        "id": "nZs5OGjPJ4ZK",
        "outputId": "937864f2-c781-40e0-db1e-0c612a33521e"
      },
      "execution_count": null,
      "outputs": [
        {
          "output_type": "stream",
          "name": "stdout",
          "text": [
            "10/10 [==============================] - 0s 2ms/step\n"
          ]
        }
      ]
    },
    {
      "cell_type": "code",
      "source": [
        "yprediksi = yprediksi.argmax(axis=1)"
      ],
      "metadata": {
        "id": "tng_eDrNo7tQ"
      },
      "execution_count": null,
      "outputs": []
    },
    {
      "cell_type": "code",
      "source": [
        "print(\"Predict Outputs:\\n\", yprediksi, end='\\n\\n')\n",
        "print(\"Correct Outputs:\\n\", ytest, end='\\n\\n')"
      ],
      "metadata": {
        "colab": {
          "base_uri": "https://localhost:8080/"
        },
        "id": "8ztm_9uOpCs-",
        "outputId": "3a1f5e4c-a057-4dad-acef-0110a485685a"
      },
      "execution_count": null,
      "outputs": [
        {
          "output_type": "stream",
          "name": "stdout",
          "text": [
            "Predict Outputs:\n",
            " [0 1 0 1 1 1 1 1 1 2 1 1 0 1 1 1 1 1 1 1 1 1 1 1 1 0 1 1 1 1 1 1 1 1 2 1 1\n",
            " 1 1 0 1 1 1 1 0 1 0 1 1 1 1 1 1 1 1 0 1 1 1 1 1 1 0 1 1 1 0 1 1 0 1 0 1 1\n",
            " 1 1 0 1 1 1 1 0 1 1 1 1 1 0 1 1 1 1 1 2 1 1 2 1 1 0 1 2 1 1 1 1 1 1 1 1 1\n",
            " 1 1 1 0 1 1 1 1 1 1 2 1 1 1 1 1 1 1 1 0 1 1 1 0 1 1 1 2 1 2 1 1 1 1 1 1 0\n",
            " 1 1 1 1 0 0 0 1 1 1 0 1 1 1 1 1 1 1 0 1 1 0 1 1 1 2 1 1 1 1 1 1 1 1 1 0 1\n",
            " 1 1 0 1 1 1 1 1 1 1 1 2 1 1 0 2 1 1 1 1 1 2 1 1 1 1 1 1 1 1 1 2 1 1 1 1 1\n",
            " 0 1 1 1 1 1 1 1 1 1 1 1 1 0 1 1 1 1 2 1 1 1 1 1 0 1 2 1 1 0 1 1 0 1 0 1 1\n",
            " 1 1 0 1 1 1 1 1 0 1 1 1 1 1 1 1 1 1 1 0 1 1 1 1 1 1 0 1 1 1 1 1 0 0 2 1 2\n",
            " 1 1 1 1 1 2 2 1]\n",
            "\n",
            "Correct Outputs:\n",
            " [0 1 0 1 1 1 1 1 1 2 1 1 0 1 1 2 1 1 1 1 1 1 1 1 1 0 1 1 1 1 1 1 1 1 2 1 1\n",
            " 1 1 0 0 1 1 1 0 1 0 1 1 1 1 1 1 1 1 0 1 1 1 1 1 1 0 1 1 1 0 1 1 0 0 0 1 1\n",
            " 1 1 0 1 0 1 1 0 1 1 1 1 1 0 1 1 1 1 1 1 0 1 2 1 1 0 1 2 1 1 1 1 0 1 1 0 1\n",
            " 1 1 1 0 1 1 1 1 1 1 1 1 1 1 1 2 1 1 1 0 2 1 1 0 1 1 1 2 1 2 1 1 1 1 1 1 0\n",
            " 1 1 1 1 0 0 0 1 1 1 0 1 1 1 1 1 1 1 0 1 1 0 1 1 1 2 1 1 1 1 1 1 1 1 1 0 1\n",
            " 1 1 0 1 1 1 1 1 1 1 0 2 1 1 0 2 1 1 1 1 1 2 1 1 1 1 1 1 1 1 1 2 1 1 1 0 1\n",
            " 0 1 1 1 1 1 1 1 1 1 1 1 1 0 1 1 1 1 2 1 1 1 1 1 0 1 2 1 1 1 1 1 0 2 0 1 1\n",
            " 1 1 0 1 1 1 1 1 0 1 1 1 1 1 1 0 1 1 1 0 1 1 1 1 1 1 0 1 1 1 1 1 0 0 2 1 2\n",
            " 1 1 1 1 1 2 2 0]\n",
            "\n"
          ]
        }
      ]
    },
    {
      "cell_type": "code",
      "source": [
        "#Pengujian (Confusion Matrix)\n",
        "def make_confusion_matrix(y_true, y_pred, classes=None, figsize=(10, 10), text_size=15): \n",
        "\n",
        "  # Create the confustion matrix\n",
        "  cm = confusion_matrix(y_true, y_pred)\n",
        "  cm_norm = cm.astype(\"float\") / cm.sum(axis=1)[:, np.newaxis] # normalize it\n",
        "  n_classes = cm.shape[0] # find the number of classes we're dealing with\n",
        "\n",
        "  # Plot the figure and make it pretty\n",
        "  fig, ax = plt.subplots(figsize=figsize)\n",
        "  cax = ax.matshow(cm, cmap=plt.cm.Blues) # colors will represent how 'correct' a class is, darker == better\n",
        "  fig.colorbar(cax)\n",
        "\n",
        "  # Are there a list of classes?\n",
        "  if classes:\n",
        "    labels = classes\n",
        "  else:\n",
        "    labels = np.arange(cm.shape[0])\n",
        "  \n",
        "  # Label the axes\n",
        "  ax.set(title=\"Confusion Matrix\",\n",
        "         xlabel=\"Predicted label\",\n",
        "         ylabel=\"True label\",\n",
        "         xticks=np.arange(n_classes), # create enough axis slots for each class\n",
        "         yticks=np.arange(n_classes), \n",
        "         xticklabels=labels, # axes will labeled with class names (if they exist) or ints\n",
        "         yticklabels=labels)\n",
        "  \n",
        "  # Make x-axis labels appear on bottom\n",
        "  ax.xaxis.set_label_position(\"bottom\")\n",
        "  ax.xaxis.tick_bottom()\n",
        "\n",
        "  # Set the threshold for different colors\n",
        "  threshold = (cm.max() + cm.min()) / 2.\n",
        "\n",
        "  # Plot the text on each cell\n",
        "  for i, j in itertools.product(range(cm.shape[0]), range(cm.shape[1])):\n",
        "    plt.text(j, i, f\"{cm[i, j]} ({cm_norm[i, j]*100:.1f}%)\",\n",
        "             horizontalalignment=\"center\",\n",
        "             color=\"white\" if cm[i, j] > threshold else \"black\",\n",
        "             size=text_size)"
      ],
      "metadata": {
        "id": "hyWJkxPjqev9"
      },
      "execution_count": null,
      "outputs": []
    },
    {
      "cell_type": "code",
      "source": [
        "#Pengujian (Confusion Matrix)\n",
        "confusion_matrix(y_true=ytest, \n",
        "                 y_pred=yprediksi)"
      ],
      "metadata": {
        "colab": {
          "base_uri": "https://localhost:8080/"
        },
        "id": "6DIj3rdPpRuK",
        "outputId": "a026805c-a335-4aac-fdb4-223e316348c1"
      },
      "execution_count": null,
      "outputs": [
        {
          "output_type": "execute_result",
          "data": {
            "text/plain": [
              "array([[ 40,  10,   0],\n",
              "       [  1, 230,   2],\n",
              "       [  0,   4,  17]])"
            ]
          },
          "metadata": {},
          "execution_count": 42
        }
      ]
    },
    {
      "cell_type": "code",
      "source": [
        "#Pengujian (Confusion Matrix)\n",
        "make_confusion_matrix(y_true=ytest, \n",
        "                      y_pred=yprediksi,\n",
        "                      classes=class_names,\n",
        "                      figsize=(10, 5),\n",
        "                      text_size=10)"
      ],
      "metadata": {
        "colab": {
          "base_uri": "https://localhost:8080/",
          "height": 363
        },
        "id": "kh3N1pCEp16x",
        "outputId": "f3564695-8bc9-4ba0-ff13-c4e68f8cdbb9"
      },
      "execution_count": null,
      "outputs": [
        {
          "output_type": "display_data",
          "data": {
            "text/plain": [
              "<Figure size 720x360 with 2 Axes>"
            ],
            "image/png": "[encoded data removed]"
          },
          "metadata": {
            "needs_background": "light"
          }
        }
      ]
    },
    {
      "cell_type": "markdown",
      "source": [
        "### **Save and Load Your Model**"
      ],
      "metadata": {
        "id": "yp6e_KUMbPvy"
      }
    },
    {
      "cell_type": "code",
      "source": [
        "!pip install h5py"
      ],
      "metadata": {
        "colab": {
          "base_uri": "https://localhost:8080/"
        },
        "id": "XafSJvERbTbR",
        "outputId": "c9a436ac-91e3-40d0-b217-09fce46f834a"
      },
      "execution_count": null,
      "outputs": [
        {
          "output_type": "stream",
          "name": "stdout",
          "text": [
            "Looking in indexes: https://pypi.org/simple, https://us-python.pkg.dev/colab-wheels/public/simple/\n",
            "Requirement already satisfied: h5py in /usr/local/lib/python3.8/dist-packages (3.1.0)\n",
            "Requirement already satisfied: numpy>=1.17.5 in /usr/local/lib/python3.8/dist-packages (from h5py) (1.21.6)\n"
          ]
        }
      ]
    },
    {
      "cell_type": "code",
      "source": [
        "# save the model from file\n",
        "model.save('backpropagation.h5')"
      ],
      "metadata": {
        "id": "Qw_y1C3SbYyR"
      },
      "execution_count": null,
      "outputs": []
    },
    {
      "cell_type": "code",
      "source": [
        "from tensorflow.keras.models import load_model\n",
        "\n",
        "# load the model from file\n",
        "model = load_model('model.h5')"
      ],
      "metadata": {
        "id": "S2f07lsvbdJD"
      },
      "execution_count": null,
      "outputs": []
    }
  ]
}